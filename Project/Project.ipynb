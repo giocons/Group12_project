{
 "cells": [
  {
   "cell_type": "markdown",
   "source": "# Tracking muons with 4 Drift Tubes chambers setup\n\n### Description\n\nThe project consist in the analysis of the data gathered by four drift-tubes detectors during a beam test aimed at the production of $\\mu^+ - \\mu^-$ pairs. This was achieved by shooting 45 GeV positrons on a Beryllium target. Most of the collisons yielded background events (e.g. Bhabha scattering events), whereas only a small fraction produced an actual muons pair. A signal event would consist of two tracks, each traversing two muon detectors (as a dipole magnet deflected in different directions the positively and the negatively charged particles).\n\nThe following figure displays a signal event. It is possible to notice the positioning of the four drift-tubes detectors. Particles are moving essentially along the $z$ axis (the beam direction) while the bending due to the dipole magnet occures along the $x$ axis. The $y$ coordinate is irrelevant in this context as it was not measured. \n![alt text](./Figure_1228.png)\n",
   "metadata": {
    "cell_id": "95b94d82-6c65-4927-9f9b-f0cb2a14607f",
    "deepnote_cell_type": "markdown"
   }
  },
  {
   "cell_type": "markdown",
   "source": "Calibration runs were taken too, by shouting directly positive muons at a given energy on the target, e.g. they consist of single tracks on either of the two sides of the apparatus as shown in the following picture. Which side of the apparatus was determined by the sign of the current powering the magnet.\n\n![alt text](./Figure_r261_19.png)",
   "metadata": {
    "cell_id": "00001-f05cc507-56a1-4d09-b2db-c49218a8f9e5",
    "deepnote_cell_type": "markdown"
   }
  },
  {
   "cell_type": "markdown",
   "source": "Each detector consists of four layers of drift-tubes, i.e. cells with an anodic wire at the center and cathods at the sides filled up with a gas mixture of ${\\rm Ar-CO_2}$ ($85\\%-15\\%$). The passage of a charged particle through a cell would ionize the gas, with a consequent drift of electrons towards the anodic wire. Exploiting a linear relation (the drift velocity inside the cell is constant), by measuring the time of arrival of the primary ionization, it is possible to reconstruct the track's position within the cell. Note that there is a left-right ambiguity in the determination of the position (blue-red dots in the display).\n\nThe following picture shows the hits left by the muons passing through one fo the detectors (the straight lines represent fits to the recorded hits, we will come to that later). The anodic wires (not drawn) sit at the center of the cells.\n![alt text](./Figure_1228_zoom.png)",
   "metadata": {
    "cell_id": "00002-7abd47d0-dea0-43cf-8ee7-528233e2ae24",
    "deepnote_cell_type": "markdown"
   }
  },
  {
   "cell_type": "markdown",
   "source": "As it can be seen, the layers are staggered by half a cell.\n\nThe relevant dimensions and the overall coordinate transformations in $z$ and $x$ are given below. Note that all the quantities are expressed in $mm$. ",
   "metadata": {
    "cell_id": "00003-a02218f4-b39f-42bc-83e5-cd57ec7eb96b",
    "deepnote_cell_type": "markdown"
   }
  },
  {
   "cell_type": "code",
   "metadata": {
    "cell_id": "00004-bd453177-cc96-4867-8c25-c84dcc59b16a",
    "deepnote_cell_type": "code"
   },
   "source": "# Cell dimensions\nXCELL = 42.\nZCELL = 13.\n\n# X coordinates translation\nglobal_x_shifts = [994.2, 947.4,-267.4,-261.5,]\n\n# Z coordinates translations\nlocal_z_shifts = [z*ZCELL for z  in range(0,4)]\nglobal_z_shifts = [823.5, 0, 823.5, 0]",
   "execution_count": null,
   "outputs": []
  },
  {
   "cell_type": "markdown",
   "source": "### Datasets\n\nIn your assigned VM (LCPmodA-Y4-Gr1, IP: 10.67.22.126) you find the relevant datasets on `\\data`. There are two folders where data for the physics runs and the calibration runs are stored. \n\n#### Calibration runs\n\nIn the following table the relevant parameters for the calibration runs are listed\n\n| Run |  Energy (GeV)|  Magnet current (A)|\n|-----|:---:|:-----:|\n| 260 | 22 | -580 |\n| 261 | 18 | -850 |\n| 262 | 18 |  850 |\n| 263 | 22 |  580 |\n\n#### Physics runs\n\nAll physics runs were taken in the same conditions. Only one run, `Run000333` is present in the VM. Be reminded that $\\mu^+ - \\mu^-$ are very rare. These runs are contaminated by a lot of noise, their analysis requires a lot of care in (pre-)selecting good signal candidates\n\n\n#### Data format\n\nThe data files are organized as a series of events (rows) where each event consist of the coordinates of the hits recorded in that event (N.B.: as the number of hits for even is not fixed, the dataset cannot be seen as a unique big table with a defined number of \"columns\"). More specifically every raw consists of:\n\n* event number\n* number of recorded hits (N)\n* hit 1 coordinates\n* ...\n* hit N coordinates\n\nwhere N could be zero too and the hits coordinates are: \n* *chamber*, which of the four detector registered the hit (numbering is in the range $0-4$)\n* *layer*, which layer of that detector\n* *xleft*, the x position of the hit **in the local detector coordinates** assuming the track passed at the left of the wire\n* *xright*, the x position of the hit **in the local detector coordinates** assuming the track passed at the right of the wire\n* *time*, the drift time (redundant)\n\nThe local detector coordinates are defined with respect to one side (the left one) of the detector. All the detectors however were placed rotated by 180 degrees, i.e. the x axes of the local and global coordinates have different orientation.\n",
   "metadata": {
    "cell_id": "00005-1d9a6dd3-33b3-4ec5-9627-8c7f828df519",
    "deepnote_cell_type": "markdown"
   }
  },
  {
   "cell_type": "markdown",
   "source": "### Assignments\n\nThe goal of the analysis is to select and study events with muon(s) passing through the detectors.\nYou can start looking at the calibration runs as most of those events consist of muon tracks.\n\nSuggestion to be followed: for every event create a Pandas DataFrame with the hits recorded in that event. Add columns (features) as needed (e.g. global coordinates)\n\n- Part 1, setting up\n    * Process the data and place the hits approriately in the global $xz$ plane (e.g. transform local coordinates into global coordinates)\n    * Display (event-by-event) the four detectors, the hits and the cell where the hits are found\n- Part 2, reconstruction on calibration run \n    * Select good events by requiring hits either on the left side (detectors 0 and 1) or on the right side (detectors 2 and 3)\n    * Perform a local linear fit of the hits in each detector, for the cases where at least 3 hits in 3 different layers are found\n    * Perform a global linear fit combining the hits of 2 detectors in the 3D space\n    * Add the result of the fits to the event display (you should get what is shown in the pictures above, where the dashed lines correspond to the local fits and the solid line to the global one)\n- Part 3, reconstruction on physics runs\n    * As in part 2 but on the physics run. The minimal requirment is to develop a signal selection strategy, the rest of the analysis is optional\n    \n### Contacts\n\n* Marco Zanetti <marco.zanetti@unipd.it>\n* Alberto Zucchetta <alberto.zucchetta@pd.infn.it>\n* Jacopo Pazzini <jacopo.pazzini@unipd.it>\n",
   "metadata": {
    "cell_id": "00006-4c33111b-f9b5-4794-a259-77f147e69a0e",
    "deepnote_cell_type": "markdown"
   }
  },
  {
   "cell_type": "code",
   "metadata": {
    "cell_id": "00007-8794fa98-988d-46f2-99cd-f7b6ad6b472f",
    "deepnote_cell_type": "code"
   },
   "source": "",
   "execution_count": null,
   "outputs": []
  },
  {
   "cell_type": "markdown",
   "source": "<a style='text-decoration:none;line-height:16px;display:flex;color:#5B5B62;padding:10px;justify-content:end;' href='https://deepnote.com?utm_source=created-in-deepnote-cell&projectId=2ab1dc03-9ec6-464c-8ad6-0ce9b1b292a9' target=\"_blank\">\n<img alt='Created in deepnote.com' style='display:inline;max-height:16px;margin:0px;margin-right:7.5px;' src='data:image/svg+xml;base64,PD94bWwgdmVyc2lvbj0iMS4wIiBlbmNvZGluZz0iVVRGLTgiPz4KPHN2ZyB3aWR0aD0iODBweCIgaGVpZ2h0PSI4MHB4IiB2aWV3Qm94PSIwIDAgODAgODAiIHZlcnNpb249IjEuMSIgeG1sbnM9Imh0dHA6Ly93d3cudzMub3JnLzIwMDAvc3ZnIiB4bWxuczp4bGluaz0iaHR0cDovL3d3dy53My5vcmcvMTk5OS94bGluayI+CiAgICA8IS0tIEdlbmVyYXRvcjogU2tldGNoIDU0LjEgKDc2NDkwKSAtIGh0dHBzOi8vc2tldGNoYXBwLmNvbSAtLT4KICAgIDx0aXRsZT5Hcm91cCAzPC90aXRsZT4KICAgIDxkZXNjPkNyZWF0ZWQgd2l0aCBTa2V0Y2guPC9kZXNjPgogICAgPGcgaWQ9IkxhbmRpbmciIHN0cm9rZT0ibm9uZSIgc3Ryb2tlLXdpZHRoPSIxIiBmaWxsPSJub25lIiBmaWxsLXJ1bGU9ImV2ZW5vZGQiPgogICAgICAgIDxnIGlkPSJBcnRib2FyZCIgdHJhbnNmb3JtPSJ0cmFuc2xhdGUoLTEyMzUuMDAwMDAwLCAtNzkuMDAwMDAwKSI+CiAgICAgICAgICAgIDxnIGlkPSJHcm91cC0zIiB0cmFuc2Zvcm09InRyYW5zbGF0ZSgxMjM1LjAwMDAwMCwgNzkuMDAwMDAwKSI+CiAgICAgICAgICAgICAgICA8cG9seWdvbiBpZD0iUGF0aC0yMCIgZmlsbD0iIzAyNjVCNCIgcG9pbnRzPSIyLjM3NjIzNzYyIDgwIDM4LjA0NzY2NjcgODAgNTcuODIxNzgyMiA3My44MDU3NTkyIDU3LjgyMTc4MjIgMzIuNzU5MjczOSAzOS4xNDAyMjc4IDMxLjY4MzE2ODMiPjwvcG9seWdvbj4KICAgICAgICAgICAgICAgIDxwYXRoIGQ9Ik0zNS4wMDc3MTgsODAgQzQyLjkwNjIwMDcsNzYuNDU0OTM1OCA0Ny41NjQ5MTY3LDcxLjU0MjI2NzEgNDguOTgzODY2LDY1LjI2MTk5MzkgQzUxLjExMjI4OTksNTUuODQxNTg0MiA0MS42NzcxNzk1LDQ5LjIxMjIyODQgMjUuNjIzOTg0Niw0OS4yMTIyMjg0IEMyNS40ODQ5Mjg5LDQ5LjEyNjg0NDggMjkuODI2MTI5Niw0My4yODM4MjQ4IDM4LjY0NzU4NjksMzEuNjgzMTY4MyBMNzIuODcxMjg3MSwzMi41NTQ0MjUgTDY1LjI4MDk3Myw2Ny42NzYzNDIxIEw1MS4xMTIyODk5LDc3LjM3NjE0NCBMMzUuMDA3NzE4LDgwIFoiIGlkPSJQYXRoLTIyIiBmaWxsPSIjMDAyODY4Ij48L3BhdGg+CiAgICAgICAgICAgICAgICA8cGF0aCBkPSJNMCwzNy43MzA0NDA1IEwyNy4xMTQ1MzcsMC4yNTcxMTE0MzYgQzYyLjM3MTUxMjMsLTEuOTkwNzE3MDEgODAsMTAuNTAwMzkyNyA4MCwzNy43MzA0NDA1IEM4MCw2NC45NjA0ODgyIDY0Ljc3NjUwMzgsNzkuMDUwMzQxNCAzNC4zMjk1MTEzLDgwIEM0Ny4wNTUzNDg5LDc3LjU2NzA4MDggNTMuNDE4MjY3Nyw3MC4zMTM2MTAzIDUzLjQxODI2NzcsNTguMjM5NTg4NSBDNTMuNDE4MjY3Nyw0MC4xMjg1NTU3IDM2LjMwMzk1NDQsMzcuNzMwNDQwNSAyNS4yMjc0MTcsMzcuNzMwNDQwNSBDMTcuODQzMDU4NiwzNy43MzA0NDA1IDkuNDMzOTE5NjYsMzcuNzMwNDQwNSAwLDM3LjczMDQ0MDUgWiIgaWQ9IlBhdGgtMTkiIGZpbGw9IiMzNzkzRUYiPjwvcGF0aD4KICAgICAgICAgICAgPC9nPgogICAgICAgIDwvZz4KICAgIDwvZz4KPC9zdmc+' > </img>\nCreated in <span style='font-weight:600;margin-left:4px;'>Deepnote</span></a>",
   "metadata": {
    "tags": [],
    "created_in_deepnote_cell": true,
    "deepnote_cell_type": "markdown"
   }
  }
 ],
 "nbformat": 4,
 "nbformat_minor": 2,
 "metadata": {
  "kernelspec": {
   "display_name": "Python 3 (ipykernel)",
   "language": "python",
   "name": "python3"
  },
  "language_info": {
   "codemirror_mode": {
    "name": "ipython",
    "version": 3
   },
   "file_extension": ".py",
   "mimetype": "text/x-python",
   "name": "python",
   "nbconvert_exporter": "python",
   "pygments_lexer": "ipython3",
   "version": "3.7.12"
  },
  "toc": {
   "base_numbering": 1,
   "nav_menu": {},
   "number_sections": true,
   "sideBar": true,
   "skip_h1_title": false,
   "title_cell": "Table of Contents",
   "title_sidebar": "Contents",
   "toc_cell": false,
   "toc_position": {},
   "toc_section_display": true,
   "toc_window_display": false
  },
  "varInspector": {
   "cols": {
    "lenName": 16,
    "lenType": 16,
    "lenVar": 40
   },
   "kernels_config": {
    "python": {
     "delete_cmd_postfix": "",
     "delete_cmd_prefix": "del ",
     "library": "var_list.py",
     "varRefreshCmd": "print(var_dic_list())"
    },
    "r": {
     "delete_cmd_postfix": ") ",
     "delete_cmd_prefix": "rm(",
     "library": "var_list.r",
     "varRefreshCmd": "cat(var_dic_list()) "
    }
   },
   "types_to_exclude": [
    "module",
    "function",
    "builtin_function_or_method",
    "instance",
    "_Feature"
   ],
   "window_display": false
  },
  "deepnote_notebook_id": "76c91f56-96e5-437f-a468-8200eed7e4e0",
  "deepnote": {},
  "deepnote_execution_queue": []
 }
}